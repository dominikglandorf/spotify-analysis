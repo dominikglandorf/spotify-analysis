{
 "cells": [
  {
   "cell_type": "code",
   "execution_count": 2,
   "metadata": {},
   "outputs": [],
   "source": [
    "import pandas as pd"
   ]
  },
  {
   "cell_type": "code",
   "execution_count": null,
   "metadata": {},
   "outputs": [],
   "source": [
    "path = \"../dat/tracks.csv\"\n",
    "data = pd.read_csv(path)\n",
    "print(data.head)\n",
    "data = data.drop(columns=['Unnamed: 0'])\n",
    "data.columns"
   ]
  },
  {
   "cell_type": "markdown",
   "metadata": {},
   "source": [
    "# Try PCA"
   ]
  }
 ],
 "metadata": {
  "interpreter": {
   "hash": "c1dbe57192e62f155201d24ea65753659b8628a7fd20be0d4e02906c87d35f32"
  },
  "kernelspec": {
   "display_name": "Python 3.10.2 64-bit ('spotify-analysis': conda)",
   "language": "python",
   "name": "python3"
  },
  "language_info": {
   "codemirror_mode": {
    "name": "ipython",
    "version": 3
   },
   "file_extension": ".py",
   "mimetype": "text/x-python",
   "name": "python",
   "nbconvert_exporter": "python",
   "pygments_lexer": "ipython3",
   "version": "3.10.2"
  },
  "orig_nbformat": 4
 },
 "nbformat": 4,
 "nbformat_minor": 2
}
