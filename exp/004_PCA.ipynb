{
 "cells": [
  {
   "cell_type": "code",
   "execution_count": 9,
   "metadata": {},
   "outputs": [
    {
     "name": "stdout",
     "output_type": "stream",
     "text": [
      "The autoreload extension is already loaded. To reload it, use:\n",
      "  %reload_ext autoreload\n"
     ]
    }
   ],
   "source": [
    "%load_ext autoreload\n",
    "%autoreload 2\n",
    "import pandas as pd\n",
    "import numpy as np\n",
    "import sys\n",
    "sys.path.append(\"../\")\n",
    "from src import pca\n",
    "import matplotlib.pyplot as plt"
   ]
  },
  {
   "cell_type": "code",
   "execution_count": 2,
   "metadata": {},
   "outputs": [
    {
     "data": {
      "text/plain": [
       "Index(['id', 'name', 'popularity', 'danceability', 'energy', 'liveness',\n",
       "       'loudness', 'speechiness', 'acousticness', 'instrumentalness', 'tempo',\n",
       "       'valence', 'key'],\n",
       "      dtype='object')"
      ]
     },
     "execution_count": 2,
     "metadata": {},
     "output_type": "execute_result"
    }
   ],
   "source": [
    "data = pd.read_csv(\"../dat/tracks.csv\")\n",
    "data = data.drop(columns=['Unnamed: 0'])\n",
    "data.columns"
   ]
  },
  {
   "cell_type": "markdown",
   "metadata": {},
   "source": [
    "# Try PCA"
   ]
  },
  {
   "cell_type": "code",
   "execution_count": 54,
   "metadata": {},
   "outputs": [],
   "source": [
    "# remove non-continuous and dependent columns and nan rows\n",
    "data2 = data.dropna()\n",
    "data_cont = data2.drop(columns=[\"id\", \"name\", \"key\", \"popularity\"])\n",
    "\n",
    "colnames = data_cont.columns\n",
    "# turn into np array \n",
    "data_np = data_cont.values\n",
    "\n",
    "# z-standardize data\n",
    "data_np_n = (data_np-data_np.mean(axis=0)) / data_np.std(axis=0)"
   ]
  },
  {
   "cell_type": "code",
   "execution_count": 55,
   "metadata": {},
   "outputs": [
    {
     "data": {
      "text/plain": [
       "Index(['danceability', 'energy', 'liveness', 'loudness', 'speechiness',\n",
       "       'acousticness', 'instrumentalness', 'tempo', 'valence'],\n",
       "      dtype='object')"
      ]
     },
     "execution_count": 55,
     "metadata": {},
     "output_type": "execute_result"
    }
   ],
   "source": [
    "colnames"
   ]
  },
  {
   "cell_type": "code",
   "execution_count": 56,
   "metadata": {},
   "outputs": [
    {
     "data": {
      "text/html": [
       "<div>\n",
       "<style scoped>\n",
       "    .dataframe tbody tr th:only-of-type {\n",
       "        vertical-align: middle;\n",
       "    }\n",
       "\n",
       "    .dataframe tbody tr th {\n",
       "        vertical-align: top;\n",
       "    }\n",
       "\n",
       "    .dataframe thead th {\n",
       "        text-align: right;\n",
       "    }\n",
       "</style>\n",
       "<table border=\"1\" class=\"dataframe\">\n",
       "  <thead>\n",
       "    <tr style=\"text-align: right;\">\n",
       "      <th></th>\n",
       "      <th>danceability</th>\n",
       "      <th>energy</th>\n",
       "      <th>liveness</th>\n",
       "      <th>loudness</th>\n",
       "      <th>speechiness</th>\n",
       "      <th>acousticness</th>\n",
       "      <th>instrumentalness</th>\n",
       "      <th>tempo</th>\n",
       "      <th>valence</th>\n",
       "    </tr>\n",
       "  </thead>\n",
       "  <tbody>\n",
       "    <tr>\n",
       "      <th>count</th>\n",
       "      <td>28151.00</td>\n",
       "      <td>28151.00</td>\n",
       "      <td>28151.00</td>\n",
       "      <td>28151.00</td>\n",
       "      <td>28151.00</td>\n",
       "      <td>28151.00</td>\n",
       "      <td>28151.00</td>\n",
       "      <td>28151.00</td>\n",
       "      <td>28151.00</td>\n",
       "    </tr>\n",
       "    <tr>\n",
       "      <th>mean</th>\n",
       "      <td>0.00</td>\n",
       "      <td>0.00</td>\n",
       "      <td>-0.00</td>\n",
       "      <td>0.00</td>\n",
       "      <td>-0.00</td>\n",
       "      <td>-0.00</td>\n",
       "      <td>-0.00</td>\n",
       "      <td>-0.00</td>\n",
       "      <td>0.00</td>\n",
       "    </tr>\n",
       "    <tr>\n",
       "      <th>std</th>\n",
       "      <td>1.00</td>\n",
       "      <td>1.00</td>\n",
       "      <td>1.00</td>\n",
       "      <td>1.00</td>\n",
       "      <td>1.00</td>\n",
       "      <td>1.00</td>\n",
       "      <td>1.00</td>\n",
       "      <td>1.00</td>\n",
       "      <td>1.00</td>\n",
       "    </tr>\n",
       "    <tr>\n",
       "      <th>min</th>\n",
       "      <td>-3.43</td>\n",
       "      <td>-2.54</td>\n",
       "      <td>-1.23</td>\n",
       "      <td>-7.43</td>\n",
       "      <td>-0.99</td>\n",
       "      <td>-0.94</td>\n",
       "      <td>-0.53</td>\n",
       "      <td>-3.99</td>\n",
       "      <td>-1.88</td>\n",
       "    </tr>\n",
       "    <tr>\n",
       "      <th>25%</th>\n",
       "      <td>-0.60</td>\n",
       "      <td>-0.61</td>\n",
       "      <td>-0.59</td>\n",
       "      <td>-0.29</td>\n",
       "      <td>-0.68</td>\n",
       "      <td>-0.84</td>\n",
       "      <td>-0.53</td>\n",
       "      <td>-0.82</td>\n",
       "      <td>-0.80</td>\n",
       "    </tr>\n",
       "    <tr>\n",
       "      <th>50%</th>\n",
       "      <td>0.14</td>\n",
       "      <td>0.12</td>\n",
       "      <td>-0.42</td>\n",
       "      <td>0.27</td>\n",
       "      <td>-0.48</td>\n",
       "      <td>-0.41</td>\n",
       "      <td>-0.53</td>\n",
       "      <td>-0.03</td>\n",
       "      <td>-0.02</td>\n",
       "    </tr>\n",
       "    <tr>\n",
       "      <th>75%</th>\n",
       "      <td>0.75</td>\n",
       "      <td>0.77</td>\n",
       "      <td>0.28</td>\n",
       "      <td>0.62</td>\n",
       "      <td>0.39</td>\n",
       "      <td>0.62</td>\n",
       "      <td>-0.32</td>\n",
       "      <td>0.64</td>\n",
       "      <td>0.78</td>\n",
       "    </tr>\n",
       "    <tr>\n",
       "      <th>max</th>\n",
       "      <td>1.97</td>\n",
       "      <td>1.71</td>\n",
       "      <td>5.28</td>\n",
       "      <td>2.44</td>\n",
       "      <td>6.21</td>\n",
       "      <td>2.26</td>\n",
       "      <td>2.51</td>\n",
       "      <td>4.24</td>\n",
       "      <td>2.09</td>\n",
       "    </tr>\n",
       "  </tbody>\n",
       "</table>\n",
       "</div>"
      ],
      "text/plain": [
       "       danceability    energy  liveness  loudness  speechiness  acousticness  \\\n",
       "count      28151.00  28151.00  28151.00  28151.00     28151.00      28151.00   \n",
       "mean           0.00      0.00     -0.00      0.00        -0.00         -0.00   \n",
       "std            1.00      1.00      1.00      1.00         1.00          1.00   \n",
       "min           -3.43     -2.54     -1.23     -7.43        -0.99         -0.94   \n",
       "25%           -0.60     -0.61     -0.59     -0.29        -0.68         -0.84   \n",
       "50%            0.14      0.12     -0.42      0.27        -0.48         -0.41   \n",
       "75%            0.75      0.77      0.28      0.62         0.39          0.62   \n",
       "max            1.97      1.71      5.28      2.44         6.21          2.26   \n",
       "\n",
       "       instrumentalness     tempo   valence  \n",
       "count          28151.00  28151.00  28151.00  \n",
       "mean              -0.00     -0.00      0.00  \n",
       "std                1.00      1.00      1.00  \n",
       "min               -0.53     -3.99     -1.88  \n",
       "25%               -0.53     -0.82     -0.80  \n",
       "50%               -0.53     -0.03     -0.02  \n",
       "75%               -0.32      0.64      0.78  \n",
       "max                2.51      4.24      2.09  "
      ]
     },
     "execution_count": 56,
     "metadata": {},
     "output_type": "execute_result"
    }
   ],
   "source": [
    "df_describe = pd.DataFrame(data_np_n, columns=colnames)\n",
    "df_describe.describe().round(2)"
   ]
  },
  {
   "cell_type": "code",
   "execution_count": 57,
   "metadata": {},
   "outputs": [],
   "source": [
    "eigenvalues, eigenvectors = pca.PCA(data_np_n)"
   ]
  },
  {
   "cell_type": "code",
   "execution_count": 58,
   "metadata": {},
   "outputs": [
    {
     "data": {
      "text/plain": [
       "array([3.13808047, 1.27314088, 1.05179436, 0.97157426, 0.82177949,\n",
       "       0.68901621, 0.52898584, 0.36827952, 0.15734897])"
      ]
     },
     "execution_count": 58,
     "metadata": {},
     "output_type": "execute_result"
    }
   ],
   "source": [
    "eigenvalues"
   ]
  },
  {
   "cell_type": "code",
   "execution_count": 59,
   "metadata": {},
   "outputs": [
    {
     "data": {
      "image/png": "[encoded data removed]",
      "text/plain": [
       "<Figure size 432x288 with 1 Axes>"
      ]
     },
     "metadata": {
      "needs_background": "light"
     },
     "output_type": "display_data"
    }
   ],
   "source": [
    "plt.plot(eigenvalues)\n",
    "plt.show()"
   ]
  },
  {
   "cell_type": "code",
   "execution_count": 60,
   "metadata": {},
   "outputs": [],
   "source": [
    "data_proj = data_np_n @ eigenvectors[:,:2]"
   ]
  },
  {
   "cell_type": "code",
   "execution_count": 61,
   "metadata": {},
   "outputs": [
    {
     "data": {
      "text/plain": [
       "(28151, 9)"
      ]
     },
     "execution_count": 61,
     "metadata": {},
     "output_type": "execute_result"
    }
   ],
   "source": [
    "data_np_n.shape"
   ]
  },
  {
   "cell_type": "code",
   "execution_count": 73,
   "metadata": {},
   "outputs": [
    {
     "data": {
      "image/png": "[encoded data removed]",
      "text/plain": [
       "<Figure size 432x288 with 1 Axes>"
      ]
     },
     "metadata": {
      "needs_background": "light"
     },
     "output_type": "display_data"
    }
   ],
   "source": [
    "colors = [(1, 0, 0, 1) if p > 90 else (0, 1, 0, 0.01) for p in data2['popularity']]\n",
    "\n",
    "plt.scatter(data_proj[:,0], data_proj[:,1], c=colors)\n",
    "\n",
    "plt.show()"
   ]
  },
  {
   "cell_type": "code",
   "execution_count": null,
   "metadata": {},
   "outputs": [
    {
     "data": {
      "text/plain": [
       "(28151, 13)"
      ]
     },
     "execution_count": 30,
     "metadata": {},
     "output_type": "execute_result"
    }
   ],
   "source": []
  },
  {
   "cell_type": "code",
   "execution_count": null,
   "metadata": {},
   "outputs": [],
   "source": []
  }
 ],
 "metadata": {
  "interpreter": {
   "hash": "c1dbe57192e62f155201d24ea65753659b8628a7fd20be0d4e02906c87d35f32"
  },
  "kernelspec": {
   "display_name": "Python 3.10.2 64-bit ('spotify-analysis': conda)",
   "language": "python",
   "name": "python3"
  },
  "language_info": {
   "codemirror_mode": {
    "name": "ipython",
    "version": 3
   },
   "file_extension": ".py",
   "mimetype": "text/x-python",
   "name": "python",
   "nbconvert_exporter": "python",
   "pygments_lexer": "ipython3",
   "version": "3.10.2"
  },
  "orig_nbformat": 4
 },
 "nbformat": 4,
 "nbformat_minor": 2
}
