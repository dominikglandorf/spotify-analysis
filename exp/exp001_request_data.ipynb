{
 "cells": [
  {
   "cell_type": "code",
   "execution_count": 1,
   "id": "ea712988",
   "metadata": {},
   "outputs": [],
   "source": [
    "import requests\n",
    "import json\n",
    "import string\n",
    "import time\n",
    "import os"
   ]
  },
  {
   "cell_type": "markdown",
   "id": "758c604d",
   "metadata": {},
   "source": [
    "# Requesting an oAuth2 access token\n",
    "The Spotify Web API required OAuth2 authentication."
   ]
  },
  {
   "cell_type": "code",
   "execution_count": 2,
   "id": "af921224",
   "metadata": {},
   "outputs": [
    {
     "name": "stdout",
     "output_type": "stream",
     "text": [
      "BQAQyFM9ol9bnpP1Jh1ziZRIDXGNDmXDgIWE6QCQprUw_d3IHt3ERAsxEeQ98OR2Nj1uLK4_53rvNW85Xo0\n"
     ]
    }
   ],
   "source": [
    "def get_access_token(url, client_id, client_secret):\n",
    "    response = requests.post(\n",
    "        url,\n",
    "        data={\"grant_type\": \"client_credentials\"},\n",
    "        auth=(client_id, client_secret),\n",
    "    )\n",
    "    return response.json()[\"access_token\"]\n",
    "\n",
    "auth_url = \"https://accounts.spotify.com/api/token\"\n",
    "client_id = os.environ['CLIENT_ID']\n",
    "client_secret = os.environ['CLIENT_SECRET']\n",
    "access_token = get_access_token(auth_url, client_id, client_secret)\n",
    "print(access_token)"
   ]
  },
  {
   "cell_type": "markdown",
   "id": "a00a0380",
   "metadata": {},
   "source": [
    "# Get artist data for Justin Bieber\n",
    "He has the unique Spotify ID: 1uNFoZAHBGtllmzznpCI3s?si=O31o0DVURguEKhGhaodkyw"
   ]
  },
  {
   "cell_type": "code",
   "execution_count": 3,
   "id": "595a3a64",
   "metadata": {},
   "outputs": [
    {
     "name": "stdout",
     "output_type": "stream",
     "text": [
      "Justin Bieber's popularity is 97. He has 55581298 followers.\n"
     ]
    }
   ],
   "source": [
    "def get_authenticated(url):\n",
    "    return requests.get(url,\n",
    "             headers={'Authorization': 'Bearer '+ access_token})\n",
    "    \n",
    "\n",
    "response = get_authenticated(\"https://api.spotify.com/v1/artists/1uNFoZAHBGtllmzznpCI3s\")\n",
    "artist = response.json()\n",
    "print(f\"Justin Bieber's popularity is {artist['popularity']}. He has {artist['followers']['total']} followers.\")"
   ]
  },
  {
   "cell_type": "markdown",
   "id": "37d590c5",
   "metadata": {},
   "source": [
    "# Get a list of artists\n",
    "To analyse music of different artists, we need some artists, that's why we search for A to Z artists to get some."
   ]
  },
  {
   "cell_type": "code",
   "execution_count": 29,
   "id": "39d05f1a",
   "metadata": {},
   "outputs": [
    {
     "name": "stdout",
     "output_type": "stream",
     "text": [
      "a\n",
      "['Ariana Grande', 'Adele', 'Eslabon Armado', 'A Boogie Wit da Hoodie', 'Alicia Keys', 'A$AP Rocky', 'Arcangel', 'Anderson .Paak', 'Aminé', 'Arctic Monkeys', 'Anuel AA', 'Avril Lavigne', 'AC/DC', 'Christina Aguilera', 'AJR', 'E-40', 'ABBA', 'Jason Derulo', 'Akon', 'Lauren Alaina', 'Adassa', 'X Ambassadors', 'Anne-Marie', 'Arcane', 'Earth, Wind & Fire', 'Amy Winehouse', 'Sleeping At Last', 'Ava Max', 'Bruce Springsteen', 'Avenged Sevenfold', 'Aaliyah', 'Alice In Chains', 'Alec Benjamin', 'Florence + The Machine', 'Avicii', 'A$AP Ferg', 'Afrojack', 'Aventura', 'Marco Antonio Solís', 'Alessia Cara', 'Macklemore & Ryan Lewis', 'A Day To Remember', 'Andy Williams', 'Bryan Adams', 'A', 'Alan Jackson', 'Alejandro Fernández', 'Â', 'Yungeen Ace', 'A']\n",
      "b\n",
      "['Bad Bunny', 'Bradley Gaskin', 'Bruno Mars', '11:11 the rude boy', 'Billie Eilish', 'BTS', 'Bigg Bo', 'Barsov', 'Big Sean', 'B Mayzee', 'Beyoncé', 'blackbear', 'Bernhard Picelj', 'The Beatles', 'Baby Keem', 'Gore Bocharov', 'Brent Faiyaz', 'Alevtina Balashova', 'B Luv', 'blink-182', 'Bryson Tiller', '7Bird', 'Britney Spears', 'Bing Crosby', 'Rich Boi Ty', 'Bleed Brothers', 'The Notorious B.I.G.', 'Blake Shelton', 'Bespice Mary Bread Sauce', 'Bo Burnham', 'Bradda Z', 'Billy Joel', 'Banda MS de Sergio Lizárraga', 'Buyout Tight', 'Bon Iver', 'Asset Lounge Band', 'Bob Marley & The Wailers', 'Miserable Bit Violently', 'Black Eyed Peas', 'BONES', 'Baby Bugsy', 'BROCKHAMPTON', 'Bebe Rexha', 'Ben Brenner', 'Galaxy B [Dr. B}', 'BLACKPINK', 'B.ROQU3', 'Beastie Boys', 'bbno$', 'B.A.S.K.O.']\n",
      "c\n",
      "['Chris Brown', 'Grease Broadway Cast', 'Cordae', 'Coldplay', 'Noise Controllers', 'Cardi B', 'Geoy Cofie', 'Chris Stapleton', 'Streetz Ceo', 'Childish Gambino', 'Lovin Created Gifts', 'Clairo', 'El Compa Gono Y Los De La Ceiba', 'Chief Keef', 'AlexisChanel', 'Chance the Rapper', 'Shawna Cooper', 'Céline Dion', 'Calvin Harris', 'Chicano MC', 'Cody Johnson', 'Micaela Clay', 'Cocomelon', 'Cavetown', 'Sara Čeman', 'Conan Gray', 'classiQ', 'Chase Atlantic', 'Klaudio Čadonič', 'Colter Wall', 'Carrie Underwood', 'Cluee Bru', 'Playboi Carti', 'Camila Cabello', 'Nikolas Charvát', 'Cigarettes After Sex', 'Cage The Elephant', 'Hajzer Černejšek', 'C', 'Nikolina Cirer', 'C', 'Carolina Gaitán - La Gaita', 'Cane Kozjek', 'c', 'Carin Leon', 'Carrol Montes', 'C', 'Calibre 50', 'Vladana Čukljek', 'ç']\n",
      "d\n",
      "['Drake', 'Young Dolph', 'Doja Cat', 'Lana Del Rey', 'DaBaby', 'Snoop Dogg', 'Dua Lipa', 'iann dior', 'Don Toliver', '42 Dugg', 'Deftones', 'Daddy Yankee', 'Green Day', 'Dr. Dre', 'Daniel Caesar', 'DJ Khaled', 'Dominic Fike', 'David Guetta', 'Dan + Shay', 'Daft Punk', 'Demi Lovato', 'DJ Snake', 'Diplo', 'David Bowie', 'Diane Guerrero', 'Disney', \"Destiny's Child\", 'Drakeo the Ruler', 'John Denver', 'DMX', 'Céline Dion', 'Dolly Parton', 'Dean Martin', 'Dean Lewis', 'Dave Matthews Band', 'Dr. Dog', 'd', 'Trevor Daniel', 'D', 'DUSTY LOCANE', 'D', 'Denzel Curry', 'Dwele', 'D', 'Los Del Limit', 'D', 'Dierks Bentley', 'Dwayne Johnson', 'D', 'Don Omar']\n",
      "e\n",
      "['Eminem', 'Dan + Shay', 'Ed Sheeran', 'Zion & Lennox', 'Elton John', 'MARINA', 'Earl Sweatshirt', 'Eslabon Armado', 'Macklemore & Ryan Lewis', 'Encanto - Cast', 'Tones And I', 'Eric Church', 'Maddie & Tae', 'Excision', 'Elvis Presley', 'Judah & the Lion', 'Eagles', 'Penny and Sparrow', 'El Alfa', 'gianni & kyle', 'Evanescence', 'Eladio Carrion', 'Shane Smith & the Saints', 'El Fantasma', 'Fito Olivares y Su Grupo', 'Eazy-E', 'Ellie Goulding', 'London Symphony Orchestra', 'ENHYPEN', 'Elevation Worship', 'Derek & The Dominos', 'Eyedress', 'George Thorogood & The Destroyers', 'EST Gee', 'Mufasa & Hypeman', 'E', 'Ella Fitzgerald', 'Samuel E. Wright', 'E', 'Stevie Ray Vaughan', 'E', 'E-40', 'Catfish and the Bottlemen', 'E', 'Earth, Wind & Fire', 'Nora En Pure', 'E', 'Chino & Nacho', 'E', 'Ella Mai']\n"
     ]
    }
   ],
   "source": [
    "letters = list(string.ascii_lowercase)\n",
    "\n",
    "for l in letters[:5]:\n",
    "    print(l)\n",
    "    \n",
    "    response = get_authenticated(f\"https://api.spotify.com/v1/search?q={l}&limit=50&type=artist\")\n",
    "    search = response.json()\n",
    "    print([artist['name'] for artist in search['artists']['items']])\n",
    "    time.sleep(2)"
   ]
  }
 ],
 "metadata": {
  "kernelspec": {
   "display_name": "spotify-analysis",
   "language": "python",
   "name": "spotify-analysis"
  },
  "language_info": {
   "codemirror_mode": {
    "name": "ipython",
    "version": 3
   },
   "file_extension": ".py",
   "mimetype": "text/x-python",
   "name": "python",
   "nbconvert_exporter": "python",
   "pygments_lexer": "ipython3",
   "version": "3.10.2"
  }
 },
 "nbformat": 4,
 "nbformat_minor": 5
}
