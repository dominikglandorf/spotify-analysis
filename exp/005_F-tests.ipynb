{
 "cells": [
  {
   "cell_type": "markdown",
   "id": "55d65280",
   "metadata": {},
   "source": [
    "# Evaluating feature differences using F-tests\n",
    "## Setup"
   ]
  },
  {
   "cell_type": "code",
   "execution_count": 6,
   "id": "539084df",
   "metadata": {},
   "outputs": [],
   "source": [
    "import scipy.stats\n",
    "import pandas as pd\n",
    "import matplotlib.pyplot as plt\n",
    "import numpy as np\n",
    "import seaborn as sns"
   ]
  },
  {
   "cell_type": "code",
   "execution_count": 7,
   "id": "a0a25a12",
   "metadata": {},
   "outputs": [
    {
     "name": "stdout",
     "output_type": "stream",
     "text": [
      "<bound method NDFrame.head of        Unnamed: 0                      id  \\\n",
      "0               0  4fouWK6XVHhzl78KzQ1UjL   \n",
      "1               1  52xJxFP6TqMuO4Yt0eOkMz   \n",
      "2               2  5enxwA8aAbwZbf5qCHORXi   \n",
      "3               3  4VXIryQMWpIdGgYR4TrjT1   \n",
      "4               4  1r9xUipOqoNwggBpENDsvJ   \n",
      "...           ...                     ...   \n",
      "28190       28190  1JglVfTor06BLZvd5wl6Ym   \n",
      "28191       28191  064ikblBFGS6HL35D71LZy   \n",
      "28192       28192  5w8dmlHprwjUsrGuzTtOd8   \n",
      "28193       28193  3TNVM1sclxdFOx97naG8yv   \n",
      "28194       28194  2tTuHvgRWDttbKCYTodE9P   \n",
      "\n",
      "                                                    name  popularity  \\\n",
      "0                                                abcdefu         100   \n",
      "1                              We Don't Talk About Bruno          94   \n",
      "2      All Too Well (10 Minute Version) (Taylor's Ver...          92   \n",
      "3                                 All Girls Are The Same          86   \n",
      "4      Enemy (with JID) - from the series Arcane Leag...          98   \n",
      "...                                                  ...         ...   \n",
      "28190                                               ZzZz          42   \n",
      "28191                                          Mon amour          72   \n",
      "28192                                                 ZZ           1   \n",
      "28193                                       dreams (zzz)          48   \n",
      "28194                                                 ZZ           0   \n",
      "\n",
      "       danceability  energy  liveness  loudness  speechiness  acousticness  \\\n",
      "0             0.695  0.5400    0.3670    -5.692       0.0493      0.299000   \n",
      "1             0.577  0.4500    0.1110    -8.516       0.0834      0.357000   \n",
      "2             0.631  0.5180    0.0880    -8.771       0.0303      0.274000   \n",
      "3             0.671  0.5290    0.0856    -7.226       0.3070      0.076900   \n",
      "4             0.728  0.7830    0.4340    -4.424       0.2660      0.237000   \n",
      "...             ...     ...       ...       ...          ...           ...   \n",
      "28190         0.642  0.6070    0.1790    -3.519       0.0547      0.240000   \n",
      "28191         0.760  0.6160    0.1070    -8.557       0.0842      0.403000   \n",
      "28192         0.227  0.8800    0.1390    -8.624       0.0693      0.000007   \n",
      "28193         0.639  0.0326    0.1050   -11.916       0.0413      0.956000   \n",
      "28194           NaN     NaN       NaN       NaN          NaN           NaN   \n",
      "\n",
      "       instrumentalness    tempo  valence   key  \n",
      "0              0.000000  121.932    0.415   4.0  \n",
      "1              0.000000  205.863    0.830   0.0  \n",
      "2              0.000000   93.023    0.205   0.0  \n",
      "3              0.000335  161.989    0.203   0.0  \n",
      "4              0.000000   77.011    0.555  11.0  \n",
      "...                 ...      ...      ...   ...  \n",
      "28190          0.000000   76.961    0.410   4.0  \n",
      "28191          0.000530  116.027    0.168   2.0  \n",
      "28192          0.810000  107.767    0.300   6.0  \n",
      "28193          0.965000   89.967    0.230   6.0  \n",
      "28194               NaN      NaN      NaN   NaN  \n",
      "\n",
      "[28195 rows x 14 columns]>\n"
     ]
    },
    {
     "data": {
      "text/plain": [
       "Index(['id', 'name', 'popularity', 'danceability', 'energy', 'liveness',\n",
       "       'loudness', 'speechiness', 'acousticness', 'instrumentalness', 'tempo',\n",
       "       'valence', 'key'],\n",
       "      dtype='object')"
      ]
     },
     "execution_count": 7,
     "metadata": {},
     "output_type": "execute_result"
    }
   ],
   "source": [
    "path = \"../dat/tracks.csv\"\n",
    "data = pd.read_csv(path)\n",
    "print(data.head)\n",
    "data = data.drop(columns=['Unnamed: 0'])\n",
    "data.columns"
   ]
  },
  {
   "cell_type": "code",
   "execution_count": 8,
   "id": "59490b51",
   "metadata": {},
   "outputs": [
    {
     "data": {
      "text/plain": [
       "2.4666310673782172"
      ]
     },
     "execution_count": 8,
     "metadata": {},
     "output_type": "execute_result"
    }
   ],
   "source": [
    "pop_songs = data[data[\"popularity\"] > 90]\n",
    "non_pop_songs = data[data[\"popularity\"] <= 90] \n",
    "non_pop_songs.var()[\"danceability\"]/ pop_songs.var()[\"danceability\"]"
   ]
  },
  {
   "cell_type": "code",
   "execution_count": 19,
   "id": "c2f85c88",
   "metadata": {},
   "outputs": [],
   "source": [
    "f_tests = non_pop_songs.var()/pop_songs.var()"
   ]
  },
  {
   "cell_type": "code",
   "execution_count": 26,
   "id": "34927ca9",
   "metadata": {},
   "outputs": [
    {
     "data": {
      "text/plain": [
       "1.8241262744867714"
      ]
     },
     "execution_count": 26,
     "metadata": {},
     "output_type": "execute_result"
    }
   ],
   "source": [
    "f_crit = scipy.stats.f.ppf(q=(1-0.05/10), dfn=(len(non_pop_songs)-1), dfd=(len(pop_songs))-1)\n",
    "f_crit"
   ]
  },
  {
   "cell_type": "code",
   "execution_count": 22,
   "id": "e69656c8",
   "metadata": {},
   "outputs": [
    {
     "data": {
      "text/plain": [
       "popularity          146.132032\n",
       "danceability          2.466631\n",
       "energy                2.240548\n",
       "liveness              1.282643\n",
       "loudness             10.635709\n",
       "speechiness           3.276541\n",
       "acousticness          1.568261\n",
       "instrumentalness    444.638794\n",
       "tempo                 0.887411\n",
       "valence               1.193868\n",
       "key                   0.862928\n",
       "dtype: float64"
      ]
     },
     "execution_count": 22,
     "metadata": {},
     "output_type": "execute_result"
    }
   ],
   "source": [
    "f_tests"
   ]
  },
  {
   "cell_type": "code",
   "execution_count": null,
   "id": "091623ff",
   "metadata": {},
   "outputs": [],
   "source": []
  }
 ],
 "metadata": {
  "kernelspec": {
   "display_name": "Python 3",
   "language": "python",
   "name": "python3"
  },
  "language_info": {
   "codemirror_mode": {
    "name": "ipython",
    "version": 3
   },
   "file_extension": ".py",
   "mimetype": "text/x-python",
   "name": "python",
   "nbconvert_exporter": "python",
   "pygments_lexer": "ipython3",
   "version": "3.8.8"
  }
 },
 "nbformat": 4,
 "nbformat_minor": 5
}
