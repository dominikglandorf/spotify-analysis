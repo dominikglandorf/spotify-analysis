{
 "cells": [
  {
   "cell_type": "markdown",
   "metadata": {},
   "source": [
    "# Different sampling\n",
    "This experiment aims to ensure that we get all popular songs and a broad range of other songs."
   ]
  },
  {
   "cell_type": "code",
   "execution_count": 10,
   "metadata": {},
   "outputs": [],
   "source": [
    "import sys\n",
    "import string\n",
    "import time\n",
    "import matplotlib.pyplot as plt\n",
    "from tqdm import tqdm\n",
    "import itertools\n",
    "import numpy as np\n",
    "import pandas as pd\n",
    "\n",
    "sys.path.append(\"../\")\n",
    "from src import spotify_api"
   ]
  },
  {
   "cell_type": "code",
   "execution_count": 20,
   "metadata": {},
   "outputs": [],
   "source": [
    "# setup API\n",
    "api = spotify_api.SpotifyAPI()\n",
    "api.get_access_token()"
   ]
  },
  {
   "cell_type": "markdown",
   "metadata": {},
   "source": [
    "# Let's query tracks by letters"
   ]
  },
  {
   "cell_type": "code",
   "execution_count": 32,
   "metadata": {},
   "outputs": [
    {
     "name": "stderr",
     "output_type": "stream",
     "text": [
      "100%|██████████| 26/26 [00:17<00:00,  1.49it/s]\n"
     ]
    }
   ],
   "source": [
    "letters = list(string.ascii_lowercase)\n",
    "tracks = {}\n",
    "\n",
    "for l in tqdm(letters):\n",
    "    response = api.get_authenticated(f\"https://api.spotify.com/v1/search?q={l}&limit=50&type=track&offset=\")\n",
    "    search = response.json()\n",
    "    for track in search['tracks']['items']:\n",
    "        tracks[track['id']] = {'id': track['id'], 'name': track['name'], 'popularity': track['popularity']}\n",
    "    time.sleep(0.25)"
   ]
  },
  {
   "cell_type": "markdown",
   "metadata": {},
   "source": [
    "Let's see what we got"
   ]
  },
  {
   "cell_type": "code",
   "execution_count": 24,
   "metadata": {},
   "outputs": [
    {
     "data": {
      "text/plain": [
       "941"
      ]
     },
     "execution_count": 24,
     "metadata": {},
     "output_type": "execute_result"
    }
   ],
   "source": [
    "len(tracks)"
   ]
  },
  {
   "cell_type": "code",
   "execution_count": 30,
   "metadata": {},
   "outputs": [
    {
     "data": {
      "image/png": "[encoded data removed]",
      "text/plain": [
       "<Figure size 432x288 with 1 Axes>"
      ]
     },
     "metadata": {
      "needs_background": "light"
     },
     "output_type": "display_data"
    }
   ],
   "source": [
    "plt.hist([t[\"popularity\"] for t in tracks.values()])\n",
    "plt.show()"
   ]
  },
  {
   "cell_type": "markdown",
   "metadata": {},
   "source": [
    "# Let's find a few more songs by browsing up to result page 10"
   ]
  },
  {
   "cell_type": "code",
   "execution_count": 37,
   "metadata": {},
   "outputs": [
    {
     "name": "stderr",
     "output_type": "stream",
     "text": [
      "100%|██████████| 260/260 [02:33<00:00,  1.69it/s]\n"
     ]
    }
   ],
   "source": [
    "letters = list(string.ascii_lowercase)\n",
    "page = range(0, 10)\n",
    "tracks = {}\n",
    "\n",
    "for q, p in tqdm(list(itertools.product(letters, page))):\n",
    "    offset = p * 50\n",
    "    response = api.get_authenticated(f\"https://api.spotify.com/v1/search?q={q}&limit=50&type=track&offset={offset}\")\n",
    "    search = response.json()\n",
    "    for track in search['tracks']['items']:\n",
    "        tracks[track['id']] = {'id': track['id'], 'name': track['name'], 'popularity': track['popularity']}\n",
    "    time.sleep(0.25) # just do four requests per second to stay below quota"
   ]
  },
  {
   "cell_type": "code",
   "execution_count": 38,
   "metadata": {},
   "outputs": [
    {
     "data": {
      "text/plain": [
       "5646"
      ]
     },
     "execution_count": 38,
     "metadata": {},
     "output_type": "execute_result"
    }
   ],
   "source": [
    "len(tracks)"
   ]
  },
  {
   "cell_type": "markdown",
   "metadata": {},
   "source": [
    "It looks like there are a lot of duplicates since we could have got `26*10*50=13000` songs.\n",
    "\n",
    "Let's check the popularity distribution"
   ]
  },
  {
   "cell_type": "code",
   "execution_count": 40,
   "metadata": {},
   "outputs": [
    {
     "data": {
      "image/png": "[encoded data removed]",
      "text/plain": [
       "<Figure size 432x288 with 1 Axes>"
      ]
     },
     "metadata": {
      "needs_background": "light"
     },
     "output_type": "display_data"
    }
   ],
   "source": [
    "plt.hist([t[\"popularity\"] for t in tracks.values()], bins=20)\n",
    "plt.show()"
   ]
  },
  {
   "cell_type": "markdown",
   "metadata": {},
   "source": [
    "That looks like a bimodal distribution with a normal distribution of the songs that are actually listened to and a second mode at 0 with songs that there never listened to."
   ]
  },
  {
   "cell_type": "markdown",
   "metadata": {},
   "source": [
    "Let's see what is the lowest popularity of Top10% most popular tracks"
   ]
  },
  {
   "cell_type": "code",
   "execution_count": 42,
   "metadata": {},
   "outputs": [
    {
     "data": {
      "text/plain": [
       "82.0"
      ]
     },
     "execution_count": 42,
     "metadata": {},
     "output_type": "execute_result"
    }
   ],
   "source": [
    "np.quantile([t[\"popularity\"] for t in tracks.values()], .90)"
   ]
  },
  {
   "cell_type": "markdown",
   "metadata": {},
   "source": [
    "## Sample with two letter combinations\n",
    "We try to really get all popular songs and less never listened by giving more diverse search strings and only browse up to page 5 of results, so that we can have 27*26*5*50=175500 results in theory by making 3510 requests."
   ]
  },
  {
   "cell_type": "code",
   "execution_count": 3,
   "metadata": {},
   "outputs": [
    {
     "name": "stderr",
     "output_type": "stream",
     "text": [
      "100%|██████████| 702/702 [08:59<00:00,  1.30it/s]\n"
     ]
    }
   ],
   "source": [
    "letters = list(string.ascii_lowercase)\n",
    "page = range(0, 1)\n",
    "tracks = {}\n",
    "letter_combinations = letters + [c[0] + c[1] for c in list(itertools.product(letters, letters))]\n",
    "for q, p in tqdm(list(itertools.product(letter_combinations, page))):\n",
    "    offset = p * 50\n",
    "    response = api.get_authenticated(f\"https://api.spotify.com/v1/search?q={q}&limit=50&type=track&offset={offset}\")\n",
    "    search = response.json()\n",
    "    for track in search['tracks']['items']:\n",
    "        tracks[track['id']] = {'id': track['id'], 'name': track['name'], 'popularity': track['popularity']}\n",
    "    time.sleep(0.25) # just do four requests per second to stay below quota"
   ]
  },
  {
   "cell_type": "code",
   "execution_count": 4,
   "metadata": {},
   "outputs": [
    {
     "data": {
      "text/plain": [
       "28195"
      ]
     },
     "execution_count": 4,
     "metadata": {},
     "output_type": "execute_result"
    }
   ],
   "source": [
    "len(tracks)"
   ]
  },
  {
   "cell_type": "code",
   "execution_count": 8,
   "metadata": {},
   "outputs": [
    {
     "data": {
      "text/plain": [
       "[{'id': '4fouWK6XVHhzl78KzQ1UjL', 'name': 'abcdefu', 'popularity': 100},\n",
       " {'id': '52xJxFP6TqMuO4Yt0eOkMz',\n",
       "  'name': \"We Don't Talk About Bruno\",\n",
       "  'popularity': 94},\n",
       " {'id': '5enxwA8aAbwZbf5qCHORXi',\n",
       "  'name': \"All Too Well (10 Minute Version) (Taylor's Version) (From The Vault)\",\n",
       "  'popularity': 92},\n",
       " {'id': '4VXIryQMWpIdGgYR4TrjT1',\n",
       "  'name': 'All Girls Are The Same',\n",
       "  'popularity': 86},\n",
       " {'id': '1r9xUipOqoNwggBpENDsvJ',\n",
       "  'name': 'Enemy (with JID) - from the series Arcane League of Legends',\n",
       "  'popularity': 98},\n",
       " {'id': '1EQFOouqdKYdpbNoOHRVO2',\n",
       "  'name': 'abcdefu (angrier)',\n",
       "  'popularity': 84},\n",
       " {'id': '0bYg9bo50gSsH3LtXe2SQn',\n",
       "  'name': 'All I Want for Christmas Is You',\n",
       "  'popularity': 91},\n",
       " {'id': '07MDkzWARZaLEdKxo6yArG',\n",
       "  'name': 'Meet Me At Our Spot',\n",
       "  'popularity': 90},\n",
       " {'id': '2quVkyLSVr5wX2QIhnexUt', 'name': 'Already Dead', 'popularity': 85},\n",
       " {'id': '2Xr1dTzJee307rmrkt8c0g',\n",
       "  'name': 'love nwantiti (ah ah ah)',\n",
       "  'popularity': 93}]"
      ]
     },
     "execution_count": 8,
     "metadata": {},
     "output_type": "execute_result"
    }
   ],
   "source": [
    "list(tracks.values())[:10]"
   ]
  },
  {
   "cell_type": "markdown",
   "metadata": {},
   "source": [
    "Now let's get the audio features"
   ]
  },
  {
   "cell_type": "code",
   "execution_count": 21,
   "metadata": {},
   "outputs": [
    {
     "name": "stderr",
     "output_type": "stream",
     "text": [
      "100%|██████████| 32/32 [00:23<00:00,  1.39it/s]\n"
     ]
    }
   ],
   "source": [
    "num_tracks = len(tracks)\n",
    "track_ids = list(tracks.keys())\n",
    "api.get_access_token() # renew token\n",
    "for i in tqdm(range(25000, num_tracks, 100)):\n",
    "    batch_tracks = track_ids[i:min(i+100, num_tracks-1)]\n",
    "    ids_list = \",\".join(batch_tracks)\n",
    "\n",
    "    response = api.get_authenticated(f\"https://api.spotify.com/v1/audio-features?ids={ids_list}\")\n",
    "    for f in response.json()['audio_features']:\n",
    "        if f is not None:\n",
    "            tracks[f['id']]['danceability'] = f['danceability']\n",
    "            tracks[f['id']]['energy'] = f['energy']\n",
    "            tracks[f['id']]['liveness'] = f['liveness']\n",
    "            tracks[f['id']]['loudness'] = f['loudness']\n",
    "            tracks[f['id']]['speechiness'] = f['speechiness']\n",
    "            tracks[f['id']]['acousticness'] = f['acousticness']\n",
    "            tracks[f['id']]['instrumentalness'] = f['instrumentalness']\n",
    "            tracks[f['id']]['tempo'] = f['tempo']\n",
    "            tracks[f['id']]['valence'] = f['valence']\n",
    "            tracks[f['id']]['key'] = f['key']\n",
    "    time.sleep(0.25) # just do four requests per second to stay below quota"
   ]
  },
  {
   "cell_type": "markdown",
   "metadata": {},
   "source": [
    "Let's save them in our file"
   ]
  },
  {
   "cell_type": "code",
   "execution_count": 22,
   "metadata": {},
   "outputs": [
    {
     "name": "stdout",
     "output_type": "stream",
     "text": [
      "(28195, 13)\n"
     ]
    },
    {
     "data": {
      "text/html": [
       "<div>\n",
       "<style scoped>\n",
       "    .dataframe tbody tr th:only-of-type {\n",
       "        vertical-align: middle;\n",
       "    }\n",
       "\n",
       "    .dataframe tbody tr th {\n",
       "        vertical-align: top;\n",
       "    }\n",
       "\n",
       "    .dataframe thead th {\n",
       "        text-align: right;\n",
       "    }\n",
       "</style>\n",
       "<table border=\"1\" class=\"dataframe\">\n",
       "  <thead>\n",
       "    <tr style=\"text-align: right;\">\n",
       "      <th></th>\n",
       "      <th>id</th>\n",
       "      <th>name</th>\n",
       "      <th>popularity</th>\n",
       "      <th>danceability</th>\n",
       "      <th>energy</th>\n",
       "      <th>liveness</th>\n",
       "      <th>loudness</th>\n",
       "      <th>speechiness</th>\n",
       "      <th>acousticness</th>\n",
       "      <th>instrumentalness</th>\n",
       "      <th>tempo</th>\n",
       "      <th>valence</th>\n",
       "      <th>key</th>\n",
       "    </tr>\n",
       "  </thead>\n",
       "  <tbody>\n",
       "    <tr>\n",
       "      <th>0</th>\n",
       "      <td>4fouWK6XVHhzl78KzQ1UjL</td>\n",
       "      <td>abcdefu</td>\n",
       "      <td>100</td>\n",
       "      <td>0.695</td>\n",
       "      <td>0.540</td>\n",
       "      <td>0.3670</td>\n",
       "      <td>-5.692</td>\n",
       "      <td>0.0493</td>\n",
       "      <td>0.2990</td>\n",
       "      <td>0.000000</td>\n",
       "      <td>121.932</td>\n",
       "      <td>0.415</td>\n",
       "      <td>4.0</td>\n",
       "    </tr>\n",
       "    <tr>\n",
       "      <th>1</th>\n",
       "      <td>52xJxFP6TqMuO4Yt0eOkMz</td>\n",
       "      <td>We Don't Talk About Bruno</td>\n",
       "      <td>94</td>\n",
       "      <td>0.577</td>\n",
       "      <td>0.450</td>\n",
       "      <td>0.1110</td>\n",
       "      <td>-8.516</td>\n",
       "      <td>0.0834</td>\n",
       "      <td>0.3570</td>\n",
       "      <td>0.000000</td>\n",
       "      <td>205.863</td>\n",
       "      <td>0.830</td>\n",
       "      <td>0.0</td>\n",
       "    </tr>\n",
       "    <tr>\n",
       "      <th>2</th>\n",
       "      <td>5enxwA8aAbwZbf5qCHORXi</td>\n",
       "      <td>All Too Well (10 Minute Version) (Taylor's Ver...</td>\n",
       "      <td>92</td>\n",
       "      <td>0.631</td>\n",
       "      <td>0.518</td>\n",
       "      <td>0.0880</td>\n",
       "      <td>-8.771</td>\n",
       "      <td>0.0303</td>\n",
       "      <td>0.2740</td>\n",
       "      <td>0.000000</td>\n",
       "      <td>93.023</td>\n",
       "      <td>0.205</td>\n",
       "      <td>0.0</td>\n",
       "    </tr>\n",
       "    <tr>\n",
       "      <th>3</th>\n",
       "      <td>4VXIryQMWpIdGgYR4TrjT1</td>\n",
       "      <td>All Girls Are The Same</td>\n",
       "      <td>86</td>\n",
       "      <td>0.671</td>\n",
       "      <td>0.529</td>\n",
       "      <td>0.0856</td>\n",
       "      <td>-7.226</td>\n",
       "      <td>0.3070</td>\n",
       "      <td>0.0769</td>\n",
       "      <td>0.000335</td>\n",
       "      <td>161.989</td>\n",
       "      <td>0.203</td>\n",
       "      <td>0.0</td>\n",
       "    </tr>\n",
       "    <tr>\n",
       "      <th>4</th>\n",
       "      <td>1r9xUipOqoNwggBpENDsvJ</td>\n",
       "      <td>Enemy (with JID) - from the series Arcane Leag...</td>\n",
       "      <td>98</td>\n",
       "      <td>0.728</td>\n",
       "      <td>0.783</td>\n",
       "      <td>0.4340</td>\n",
       "      <td>-4.424</td>\n",
       "      <td>0.2660</td>\n",
       "      <td>0.2370</td>\n",
       "      <td>0.000000</td>\n",
       "      <td>77.011</td>\n",
       "      <td>0.555</td>\n",
       "      <td>11.0</td>\n",
       "    </tr>\n",
       "  </tbody>\n",
       "</table>\n",
       "</div>"
      ],
      "text/plain": [
       "                       id                                               name  \\\n",
       "0  4fouWK6XVHhzl78KzQ1UjL                                            abcdefu   \n",
       "1  52xJxFP6TqMuO4Yt0eOkMz                          We Don't Talk About Bruno   \n",
       "2  5enxwA8aAbwZbf5qCHORXi  All Too Well (10 Minute Version) (Taylor's Ver...   \n",
       "3  4VXIryQMWpIdGgYR4TrjT1                             All Girls Are The Same   \n",
       "4  1r9xUipOqoNwggBpENDsvJ  Enemy (with JID) - from the series Arcane Leag...   \n",
       "\n",
       "   popularity  danceability  energy  liveness  loudness  speechiness  \\\n",
       "0         100         0.695   0.540    0.3670    -5.692       0.0493   \n",
       "1          94         0.577   0.450    0.1110    -8.516       0.0834   \n",
       "2          92         0.631   0.518    0.0880    -8.771       0.0303   \n",
       "3          86         0.671   0.529    0.0856    -7.226       0.3070   \n",
       "4          98         0.728   0.783    0.4340    -4.424       0.2660   \n",
       "\n",
       "   acousticness  instrumentalness    tempo  valence   key  \n",
       "0        0.2990          0.000000  121.932    0.415   4.0  \n",
       "1        0.3570          0.000000  205.863    0.830   0.0  \n",
       "2        0.2740          0.000000   93.023    0.205   0.0  \n",
       "3        0.0769          0.000335  161.989    0.203   0.0  \n",
       "4        0.2370          0.000000   77.011    0.555  11.0  "
      ]
     },
     "execution_count": 22,
     "metadata": {},
     "output_type": "execute_result"
    }
   ],
   "source": [
    "tracks_df = pd.DataFrame(tracks.values())\n",
    "print(tracks_df.shape)\n",
    "tracks_df.head()"
   ]
  },
  {
   "cell_type": "code",
   "execution_count": 23,
   "metadata": {},
   "outputs": [
    {
     "data": {
      "text/plain": [
       "id                   0\n",
       "name                 0\n",
       "popularity           0\n",
       "danceability        43\n",
       "energy              43\n",
       "liveness            43\n",
       "loudness            43\n",
       "speechiness         43\n",
       "acousticness        43\n",
       "instrumentalness    43\n",
       "tempo               43\n",
       "valence             43\n",
       "key                 43\n",
       "dtype: int64"
      ]
     },
     "execution_count": 23,
     "metadata": {},
     "output_type": "execute_result"
    }
   ],
   "source": [
    "tracks_df.isnull().sum(axis = 0)"
   ]
  },
  {
   "cell_type": "code",
   "execution_count": 24,
   "metadata": {},
   "outputs": [
    {
     "data": {
      "text/html": [
       "<div>\n",
       "<style scoped>\n",
       "    .dataframe tbody tr th:only-of-type {\n",
       "        vertical-align: middle;\n",
       "    }\n",
       "\n",
       "    .dataframe tbody tr th {\n",
       "        vertical-align: top;\n",
       "    }\n",
       "\n",
       "    .dataframe thead th {\n",
       "        text-align: right;\n",
       "    }\n",
       "</style>\n",
       "<table border=\"1\" class=\"dataframe\">\n",
       "  <thead>\n",
       "    <tr style=\"text-align: right;\">\n",
       "      <th></th>\n",
       "      <th>id</th>\n",
       "      <th>name</th>\n",
       "      <th>popularity</th>\n",
       "      <th>danceability</th>\n",
       "      <th>energy</th>\n",
       "      <th>liveness</th>\n",
       "      <th>loudness</th>\n",
       "      <th>speechiness</th>\n",
       "      <th>acousticness</th>\n",
       "      <th>instrumentalness</th>\n",
       "      <th>tempo</th>\n",
       "      <th>valence</th>\n",
       "      <th>key</th>\n",
       "    </tr>\n",
       "  </thead>\n",
       "  <tbody>\n",
       "    <tr>\n",
       "      <th>0</th>\n",
       "      <td>4fouWK6XVHhzl78KzQ1UjL</td>\n",
       "      <td>abcdefu</td>\n",
       "      <td>100</td>\n",
       "      <td>0.695</td>\n",
       "      <td>0.5400</td>\n",
       "      <td>0.3670</td>\n",
       "      <td>-5.692</td>\n",
       "      <td>0.0493</td>\n",
       "      <td>0.299000</td>\n",
       "      <td>0.000000</td>\n",
       "      <td>121.932</td>\n",
       "      <td>0.415</td>\n",
       "      <td>4.0</td>\n",
       "    </tr>\n",
       "    <tr>\n",
       "      <th>1</th>\n",
       "      <td>52xJxFP6TqMuO4Yt0eOkMz</td>\n",
       "      <td>We Don't Talk About Bruno</td>\n",
       "      <td>94</td>\n",
       "      <td>0.577</td>\n",
       "      <td>0.4500</td>\n",
       "      <td>0.1110</td>\n",
       "      <td>-8.516</td>\n",
       "      <td>0.0834</td>\n",
       "      <td>0.357000</td>\n",
       "      <td>0.000000</td>\n",
       "      <td>205.863</td>\n",
       "      <td>0.830</td>\n",
       "      <td>0.0</td>\n",
       "    </tr>\n",
       "    <tr>\n",
       "      <th>2</th>\n",
       "      <td>5enxwA8aAbwZbf5qCHORXi</td>\n",
       "      <td>All Too Well (10 Minute Version) (Taylor's Ver...</td>\n",
       "      <td>92</td>\n",
       "      <td>0.631</td>\n",
       "      <td>0.5180</td>\n",
       "      <td>0.0880</td>\n",
       "      <td>-8.771</td>\n",
       "      <td>0.0303</td>\n",
       "      <td>0.274000</td>\n",
       "      <td>0.000000</td>\n",
       "      <td>93.023</td>\n",
       "      <td>0.205</td>\n",
       "      <td>0.0</td>\n",
       "    </tr>\n",
       "    <tr>\n",
       "      <th>3</th>\n",
       "      <td>4VXIryQMWpIdGgYR4TrjT1</td>\n",
       "      <td>All Girls Are The Same</td>\n",
       "      <td>86</td>\n",
       "      <td>0.671</td>\n",
       "      <td>0.5290</td>\n",
       "      <td>0.0856</td>\n",
       "      <td>-7.226</td>\n",
       "      <td>0.3070</td>\n",
       "      <td>0.076900</td>\n",
       "      <td>0.000335</td>\n",
       "      <td>161.989</td>\n",
       "      <td>0.203</td>\n",
       "      <td>0.0</td>\n",
       "    </tr>\n",
       "    <tr>\n",
       "      <th>4</th>\n",
       "      <td>1r9xUipOqoNwggBpENDsvJ</td>\n",
       "      <td>Enemy (with JID) - from the series Arcane Leag...</td>\n",
       "      <td>98</td>\n",
       "      <td>0.728</td>\n",
       "      <td>0.7830</td>\n",
       "      <td>0.4340</td>\n",
       "      <td>-4.424</td>\n",
       "      <td>0.2660</td>\n",
       "      <td>0.237000</td>\n",
       "      <td>0.000000</td>\n",
       "      <td>77.011</td>\n",
       "      <td>0.555</td>\n",
       "      <td>11.0</td>\n",
       "    </tr>\n",
       "    <tr>\n",
       "      <th>...</th>\n",
       "      <td>...</td>\n",
       "      <td>...</td>\n",
       "      <td>...</td>\n",
       "      <td>...</td>\n",
       "      <td>...</td>\n",
       "      <td>...</td>\n",
       "      <td>...</td>\n",
       "      <td>...</td>\n",
       "      <td>...</td>\n",
       "      <td>...</td>\n",
       "      <td>...</td>\n",
       "      <td>...</td>\n",
       "      <td>...</td>\n",
       "    </tr>\n",
       "    <tr>\n",
       "      <th>28189</th>\n",
       "      <td>16jJcOTf3Ci89XXZjglOhp</td>\n",
       "      <td>Zz</td>\n",
       "      <td>1</td>\n",
       "      <td>0.614</td>\n",
       "      <td>0.8530</td>\n",
       "      <td>0.0632</td>\n",
       "      <td>-10.224</td>\n",
       "      <td>0.0300</td>\n",
       "      <td>0.000789</td>\n",
       "      <td>0.868000</td>\n",
       "      <td>129.985</td>\n",
       "      <td>0.929</td>\n",
       "      <td>3.0</td>\n",
       "    </tr>\n",
       "    <tr>\n",
       "      <th>28190</th>\n",
       "      <td>1JglVfTor06BLZvd5wl6Ym</td>\n",
       "      <td>ZzZz</td>\n",
       "      <td>42</td>\n",
       "      <td>0.642</td>\n",
       "      <td>0.6070</td>\n",
       "      <td>0.1790</td>\n",
       "      <td>-3.519</td>\n",
       "      <td>0.0547</td>\n",
       "      <td>0.240000</td>\n",
       "      <td>0.000000</td>\n",
       "      <td>76.961</td>\n",
       "      <td>0.410</td>\n",
       "      <td>4.0</td>\n",
       "    </tr>\n",
       "    <tr>\n",
       "      <th>28191</th>\n",
       "      <td>064ikblBFGS6HL35D71LZy</td>\n",
       "      <td>Mon amour</td>\n",
       "      <td>72</td>\n",
       "      <td>0.760</td>\n",
       "      <td>0.6160</td>\n",
       "      <td>0.1070</td>\n",
       "      <td>-8.557</td>\n",
       "      <td>0.0842</td>\n",
       "      <td>0.403000</td>\n",
       "      <td>0.000530</td>\n",
       "      <td>116.027</td>\n",
       "      <td>0.168</td>\n",
       "      <td>2.0</td>\n",
       "    </tr>\n",
       "    <tr>\n",
       "      <th>28192</th>\n",
       "      <td>5w8dmlHprwjUsrGuzTtOd8</td>\n",
       "      <td>ZZ</td>\n",
       "      <td>1</td>\n",
       "      <td>0.227</td>\n",
       "      <td>0.8800</td>\n",
       "      <td>0.1390</td>\n",
       "      <td>-8.624</td>\n",
       "      <td>0.0693</td>\n",
       "      <td>0.000007</td>\n",
       "      <td>0.810000</td>\n",
       "      <td>107.767</td>\n",
       "      <td>0.300</td>\n",
       "      <td>6.0</td>\n",
       "    </tr>\n",
       "    <tr>\n",
       "      <th>28193</th>\n",
       "      <td>3TNVM1sclxdFOx97naG8yv</td>\n",
       "      <td>dreams (zzz)</td>\n",
       "      <td>48</td>\n",
       "      <td>0.639</td>\n",
       "      <td>0.0326</td>\n",
       "      <td>0.1050</td>\n",
       "      <td>-11.916</td>\n",
       "      <td>0.0413</td>\n",
       "      <td>0.956000</td>\n",
       "      <td>0.965000</td>\n",
       "      <td>89.967</td>\n",
       "      <td>0.230</td>\n",
       "      <td>6.0</td>\n",
       "    </tr>\n",
       "  </tbody>\n",
       "</table>\n",
       "<p>28152 rows × 13 columns</p>\n",
       "</div>"
      ],
      "text/plain": [
       "                           id  \\\n",
       "0      4fouWK6XVHhzl78KzQ1UjL   \n",
       "1      52xJxFP6TqMuO4Yt0eOkMz   \n",
       "2      5enxwA8aAbwZbf5qCHORXi   \n",
       "3      4VXIryQMWpIdGgYR4TrjT1   \n",
       "4      1r9xUipOqoNwggBpENDsvJ   \n",
       "...                       ...   \n",
       "28189  16jJcOTf3Ci89XXZjglOhp   \n",
       "28190  1JglVfTor06BLZvd5wl6Ym   \n",
       "28191  064ikblBFGS6HL35D71LZy   \n",
       "28192  5w8dmlHprwjUsrGuzTtOd8   \n",
       "28193  3TNVM1sclxdFOx97naG8yv   \n",
       "\n",
       "                                                    name  popularity  \\\n",
       "0                                                abcdefu         100   \n",
       "1                              We Don't Talk About Bruno          94   \n",
       "2      All Too Well (10 Minute Version) (Taylor's Ver...          92   \n",
       "3                                 All Girls Are The Same          86   \n",
       "4      Enemy (with JID) - from the series Arcane Leag...          98   \n",
       "...                                                  ...         ...   \n",
       "28189                                                 Zz           1   \n",
       "28190                                               ZzZz          42   \n",
       "28191                                          Mon amour          72   \n",
       "28192                                                 ZZ           1   \n",
       "28193                                       dreams (zzz)          48   \n",
       "\n",
       "       danceability  energy  liveness  loudness  speechiness  acousticness  \\\n",
       "0             0.695  0.5400    0.3670    -5.692       0.0493      0.299000   \n",
       "1             0.577  0.4500    0.1110    -8.516       0.0834      0.357000   \n",
       "2             0.631  0.5180    0.0880    -8.771       0.0303      0.274000   \n",
       "3             0.671  0.5290    0.0856    -7.226       0.3070      0.076900   \n",
       "4             0.728  0.7830    0.4340    -4.424       0.2660      0.237000   \n",
       "...             ...     ...       ...       ...          ...           ...   \n",
       "28189         0.614  0.8530    0.0632   -10.224       0.0300      0.000789   \n",
       "28190         0.642  0.6070    0.1790    -3.519       0.0547      0.240000   \n",
       "28191         0.760  0.6160    0.1070    -8.557       0.0842      0.403000   \n",
       "28192         0.227  0.8800    0.1390    -8.624       0.0693      0.000007   \n",
       "28193         0.639  0.0326    0.1050   -11.916       0.0413      0.956000   \n",
       "\n",
       "       instrumentalness    tempo  valence   key  \n",
       "0              0.000000  121.932    0.415   4.0  \n",
       "1              0.000000  205.863    0.830   0.0  \n",
       "2              0.000000   93.023    0.205   0.0  \n",
       "3              0.000335  161.989    0.203   0.0  \n",
       "4              0.000000   77.011    0.555  11.0  \n",
       "...                 ...      ...      ...   ...  \n",
       "28189          0.868000  129.985    0.929   3.0  \n",
       "28190          0.000000   76.961    0.410   4.0  \n",
       "28191          0.000530  116.027    0.168   2.0  \n",
       "28192          0.810000  107.767    0.300   6.0  \n",
       "28193          0.965000   89.967    0.230   6.0  \n",
       "\n",
       "[28152 rows x 13 columns]"
      ]
     },
     "execution_count": 24,
     "metadata": {},
     "output_type": "execute_result"
    }
   ],
   "source": [
    "tracks_df.dropna()"
   ]
  },
  {
   "cell_type": "code",
   "execution_count": 25,
   "metadata": {},
   "outputs": [],
   "source": [
    "tracks_df.to_csv(\"../dat/tracks.csv\")"
   ]
  },
  {
   "cell_type": "code",
   "execution_count": null,
   "metadata": {},
   "outputs": [],
   "source": []
  }
 ],
 "metadata": {
  "interpreter": {
   "hash": "c1dbe57192e62f155201d24ea65753659b8628a7fd20be0d4e02906c87d35f32"
  },
  "kernelspec": {
   "display_name": "Python 3",
   "language": "python",
   "name": "python3"
  },
  "language_info": {
   "codemirror_mode": {
    "name": "ipython",
    "version": 3
   },
   "file_extension": ".py",
   "mimetype": "text/x-python",
   "name": "python",
   "nbconvert_exporter": "python",
   "pygments_lexer": "ipython3",
   "version": "3.8.8"
  }
 },
 "nbformat": 4,
 "nbformat_minor": 2
}
